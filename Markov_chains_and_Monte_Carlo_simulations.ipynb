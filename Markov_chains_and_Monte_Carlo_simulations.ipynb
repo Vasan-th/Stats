{
  "nbformat": 4,
  "nbformat_minor": 0,
  "metadata": {
    "colab": {
      "provenance": [],
      "authorship_tag": "ABX9TyMv4K3aFHu1cN+aAaRGhx7U",
      "include_colab_link": true
    },
    "kernelspec": {
      "name": "python3",
      "display_name": "Python 3"
    },
    "language_info": {
      "name": "python"
    }
  },
  "cells": [
    {
      "cell_type": "markdown",
      "metadata": {
        "id": "view-in-github",
        "colab_type": "text"
      },
      "source": [
        "<a href=\"https://colab.research.google.com/github/Vasan-th/Stats/blob/main/Markov_chains_and_Monte_Carlo_simulations.ipynb\" target=\"_parent\"><img src=\"https://colab.research.google.com/assets/colab-badge.svg\" alt=\"Open In Colab\"/></a>"
      ]
    },
    {
      "cell_type": "markdown",
      "source": [
        "## **MARKOV PROCESS**\n"
      ],
      "metadata": {
        "id": "39V0viUp6-kP"
      }
    },
    {
      "cell_type": "markdown",
      "source": [
        "Next state from a set of possible states depends on the current state and not by any previous state"
      ],
      "metadata": {
        "id": "uGM8g8N77QCL"
      }
    },
    {
      "cell_type": "code",
      "execution_count": 1,
      "metadata": {
        "id": "_eO_jMwm3wGe"
      },
      "outputs": [],
      "source": [
        "import numpy as np"
      ]
    },
    {
      "cell_type": "code",
      "source": [
        "# states\n",
        "state = {0: 'Burger', 1: 'Pizza', 2: 'Hotdog'}"
      ],
      "metadata": {
        "id": "bF-37MHQ4ZHI"
      },
      "execution_count": 5,
      "outputs": []
    },
    {
      "cell_type": "code",
      "source": [
        "# transition matrix\n",
        "t = np.array([[0.2, 0.6, 0.2], [0.3, 0.0, 0.7], [0.5, 0.0, 0.5]])\n",
        "t"
      ],
      "metadata": {
        "colab": {
          "base_uri": "https://localhost:8080/"
        },
        "id": "RKL3ELTL4oON",
        "outputId": "29bf2fb8-2e62-49b8-97f1-11d4adf301eb"
      },
      "execution_count": 6,
      "outputs": [
        {
          "output_type": "execute_result",
          "data": {
            "text/plain": [
              "array([[0.2, 0.6, 0.2],\n",
              "       [0.3, 0. , 0.7],\n",
              "       [0.5, 0. , 0.5]])"
            ]
          },
          "metadata": {},
          "execution_count": 6
        }
      ]
    },
    {
      "cell_type": "markdown",
      "source": [
        "**Random Walk on Markov chain**"
      ],
      "metadata": {
        "id": "jUZcbwFt41Kp"
      }
    },
    {
      "cell_type": "code",
      "source": [
        "# no. of iterations\n",
        "n = 15\n",
        "start_state = 0\n",
        "prev_state = start_state\n",
        "print(state[prev_state], end = '') # in python after print it automatically inserts a new line character in order to negate it we are using end\n",
        "while n:\n",
        "  # calculating the next state based on the transition probability from prev state\n",
        "  curr_state = np.random.choice([0, 1, 2], p = t[prev_state])\n",
        "  print('-->', state[curr_state], end = '')\n",
        "  prev_state = curr_state\n",
        "  n -= 1\n",
        "print('-->done')\n"
      ],
      "metadata": {
        "colab": {
          "base_uri": "https://localhost:8080/"
        },
        "id": "oTRvIf4x4vYq",
        "outputId": "3ed4e7de-ae0e-4552-d020-70b1dc5278f6"
      },
      "execution_count": 10,
      "outputs": [
        {
          "output_type": "stream",
          "name": "stdout",
          "text": [
            "Burger--> Pizza--> Hotdog--> Hotdog--> Hotdog--> Hotdog--> Burger--> Pizza--> Hotdog--> Burger--> Pizza--> Hotdog--> Burger--> Pizza--> Burger--> Hotdog-->done\n"
          ]
        }
      ]
    },
    {
      "cell_type": "markdown",
      "source": [
        "## **Calculating the stationary/equilibrium probabilities**"
      ],
      "metadata": {
        "id": "NVvyJMb-6RQr"
      }
    },
    {
      "cell_type": "markdown",
      "source": [
        "**Approach I: Monte Carlo simulations**"
      ],
      "metadata": {
        "id": "AdUk85Rc6f_I"
      }
    },
    {
      "cell_type": "markdown",
      "source": [
        "We will run the random walk for a longer time period (iterations) and calculate the probabilities of each state, which gives us the stationary probabilities for each state"
      ],
      "metadata": {
        "id": "FZRKP28A6vtZ"
      }
    },
    {
      "cell_type": "code",
      "source": [
        "steps = 10**6\n",
        "start_state = 0\n",
        "curr_state = start_state\n",
        "pi = np.array([0, 0, 0])\n",
        "pi[start_state] = 1\n",
        "\n",
        "i = 0\n",
        "while i<steps:\n",
        "    curr_state = np.random.choice([0,1,2], p=t[curr_state])\n",
        "    pi[curr_state]+=1\n",
        "    i +=1\n",
        "\n",
        "print(\"Stationary probabilities = \", pi/steps)"
      ],
      "metadata": {
        "colab": {
          "base_uri": "https://localhost:8080/"
        },
        "id": "faplYOF76akX",
        "outputId": "38ed851c-5ce2-4e21-eefd-d9360a04af54"
      },
      "execution_count": 18,
      "outputs": [
        {
          "output_type": "stream",
          "name": "stdout",
          "text": [
            "Stationary probabilities =  [0.352079 0.211124 0.436798]\n"
          ]
        }
      ]
    },
    {
      "cell_type": "markdown",
      "source": [
        "**Approach II: Repeated Matrix Multiplication**"
      ],
      "metadata": {
        "id": "S17v90bz-dyV"
      }
    },
    {
      "cell_type": "markdown",
      "source": [
        "If the transition matrix is sufficiently multiplied with itself, then all the rows of the final matrix will represent the stationary probabilities"
      ],
      "metadata": {
        "id": "kW2uWvzz-9Gm"
      }
    },
    {
      "cell_type": "code",
      "source": [
        "t1 = t\n",
        "for i in range(10**3):\n",
        "  t1 = np.matmul(t1, t)\n",
        "\n",
        "print('Transition matrix after 10^3 repeated multiplication:', t1)\n",
        "print('Stationary probabilities: ', t1[0][:])"
      ],
      "metadata": {
        "colab": {
          "base_uri": "https://localhost:8080/"
        },
        "id": "I4ai57oT-dcO",
        "outputId": "84de3553-9f41-4554-aed2-c545976d65ef"
      },
      "execution_count": 20,
      "outputs": [
        {
          "output_type": "stream",
          "name": "stdout",
          "text": [
            "Transition matrix after 10^3 repeated multiplication: [[0.35211268 0.21126761 0.43661972]\n",
            " [0.35211268 0.21126761 0.43661972]\n",
            " [0.35211268 0.21126761 0.43661972]]\n",
            "Stationary probabilities:  [0.35211268 0.21126761 0.43661972]\n"
          ]
        }
      ]
    },
    {
      "cell_type": "markdown",
      "source": [
        "**Approach III: Finding left eigen vectors with 1 as its eigen values**"
      ],
      "metadata": {
        "id": "NKC_1ocC_dxK"
      }
    },
    {
      "cell_type": "code",
      "source": [
        "from scipy import linalg\n",
        "eigen_values, left_eigenvectors = linalg.eig(t, right = False, left = True)\n",
        "\n",
        "print('Eigen_values:',eigen_values)\n",
        "print('Left eigen vectors:', left_eigenvectors) # each column in this matrix corresponds to an eigen vector whose eigen value is given by corresponding index values in eigen_values\n",
        "\n"
      ],
      "metadata": {
        "colab": {
          "base_uri": "https://localhost:8080/"
        },
        "id": "0ZDhC7bi5wuf",
        "outputId": "2438bf9d-373d-4feb-d214-e7cd92c9045c"
      },
      "execution_count": 22,
      "outputs": [
        {
          "output_type": "stream",
          "name": "stdout",
          "text": [
            "Eigen_values: [ 1.  +0.j        -0.15+0.3122499j -0.15-0.3122499j]\n",
            "Left eigen vectors: [[-0.58746336+0.j          0.16984156+0.35355339j  0.16984156-0.35355339j]\n",
            " [-0.35247801+0.j         -0.67936622+0.j         -0.67936622-0.j        ]\n",
            " [-0.72845456+0.j          0.50952467-0.35355339j  0.50952467+0.35355339j]]\n"
          ]
        }
      ]
    },
    {
      "cell_type": "code",
      "source": [
        "pi = left_eigenvectors[:,0]\n",
        "pi_normalized = [(x/np.sum(pi)).real for x in pi]\n",
        "pi_normalized"
      ],
      "metadata": {
        "colab": {
          "base_uri": "https://localhost:8080/"
        },
        "id": "xtlQ5ApAAh3-",
        "outputId": "86afe5a3-0a47-4169-bfe9-2da8aa8c09f7"
      },
      "execution_count": 27,
      "outputs": [
        {
          "output_type": "execute_result",
          "data": {
            "text/plain": [
              "[0.3521126760563379, 0.21126760563380304, 0.4366197183098591]"
            ]
          },
          "metadata": {},
          "execution_count": 27
        }
      ]
    }
  ]
}